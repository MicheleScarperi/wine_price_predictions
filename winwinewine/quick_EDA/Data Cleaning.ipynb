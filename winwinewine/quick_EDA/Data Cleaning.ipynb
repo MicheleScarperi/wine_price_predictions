{
 "cells": [
  {
   "cell_type": "code",
   "execution_count": 1,
   "metadata": {},
   "outputs": [
    {
     "name": "stderr",
     "output_type": "stream",
     "text": [
      "/opt/anaconda3/lib/python3.7/site-packages/sklearn/externals/joblib/__init__.py:15: DeprecationWarning: sklearn.externals.joblib is deprecated in 0.21 and will be removed in 0.23. Please import this functionality directly from joblib, which can be installed with: pip install joblib. If this warning is raised when loading pickled models, you may need to re-serialize those models with scikit-learn 0.21+.\n",
      "  warnings.warn(msg, category=DeprecationWarning)\n"
     ]
    }
   ],
   "source": [
    "# Imports and initial exploration of the dataset. \n",
    "\n",
    "import pandas as pd\n",
    "import seaborn as sns # data visualization library\n",
    "import matplotlib.pyplot as plt # for plotting\n",
    "import numpy as np\n",
    "\n",
    "from sklearn.model_selection import cross_val_score\n",
    "from sklearn.externals import joblib\n",
    "from sklearn.model_selection import train_test_split\n",
    "from sklearn.linear_model import LinearRegression\n",
    "from sklearn.metrics import mean_squared_error\n",
    "from sklearn.metrics import r2_score\n",
    "\n",
    "from sklearn.preprocessing import LabelEncoder"
   ]
  },
  {
   "cell_type": "code",
   "execution_count": 2,
   "metadata": {},
   "outputs": [],
   "source": [
    "df = pd.read_csv('/Users/Michele/Documents/GitHub/wine_price_predictions/winwinewine/winemag-data-130k-v2.csv')\n",
    "#print(df.info())\n",
    "#print(df.head())"
   ]
  },
  {
   "cell_type": "code",
   "execution_count": 3,
   "metadata": {},
   "outputs": [
    {
     "data": {
      "text/html": [
       "<div>\n",
       "<style scoped>\n",
       "    .dataframe tbody tr th:only-of-type {\n",
       "        vertical-align: middle;\n",
       "    }\n",
       "\n",
       "    .dataframe tbody tr th {\n",
       "        vertical-align: top;\n",
       "    }\n",
       "\n",
       "    .dataframe thead th {\n",
       "        text-align: right;\n",
       "    }\n",
       "</style>\n",
       "<table border=\"1\" class=\"dataframe\">\n",
       "  <thead>\n",
       "    <tr style=\"text-align: right;\">\n",
       "      <th></th>\n",
       "      <th>Unnamed: 0</th>\n",
       "      <th>points</th>\n",
       "      <th>price</th>\n",
       "    </tr>\n",
       "  </thead>\n",
       "  <tbody>\n",
       "    <tr>\n",
       "      <td>count</td>\n",
       "      <td>129971.000000</td>\n",
       "      <td>129971.000000</td>\n",
       "      <td>120975.000000</td>\n",
       "    </tr>\n",
       "    <tr>\n",
       "      <td>mean</td>\n",
       "      <td>64985.000000</td>\n",
       "      <td>88.447138</td>\n",
       "      <td>35.363389</td>\n",
       "    </tr>\n",
       "    <tr>\n",
       "      <td>std</td>\n",
       "      <td>37519.540256</td>\n",
       "      <td>3.039730</td>\n",
       "      <td>41.022218</td>\n",
       "    </tr>\n",
       "    <tr>\n",
       "      <td>min</td>\n",
       "      <td>0.000000</td>\n",
       "      <td>80.000000</td>\n",
       "      <td>4.000000</td>\n",
       "    </tr>\n",
       "    <tr>\n",
       "      <td>25%</td>\n",
       "      <td>32492.500000</td>\n",
       "      <td>86.000000</td>\n",
       "      <td>17.000000</td>\n",
       "    </tr>\n",
       "    <tr>\n",
       "      <td>50%</td>\n",
       "      <td>64985.000000</td>\n",
       "      <td>88.000000</td>\n",
       "      <td>25.000000</td>\n",
       "    </tr>\n",
       "    <tr>\n",
       "      <td>75%</td>\n",
       "      <td>97477.500000</td>\n",
       "      <td>91.000000</td>\n",
       "      <td>42.000000</td>\n",
       "    </tr>\n",
       "    <tr>\n",
       "      <td>max</td>\n",
       "      <td>129970.000000</td>\n",
       "      <td>100.000000</td>\n",
       "      <td>3300.000000</td>\n",
       "    </tr>\n",
       "  </tbody>\n",
       "</table>\n",
       "</div>"
      ],
      "text/plain": [
       "          Unnamed: 0         points          price\n",
       "count  129971.000000  129971.000000  120975.000000\n",
       "mean    64985.000000      88.447138      35.363389\n",
       "std     37519.540256       3.039730      41.022218\n",
       "min         0.000000      80.000000       4.000000\n",
       "25%     32492.500000      86.000000      17.000000\n",
       "50%     64985.000000      88.000000      25.000000\n",
       "75%     97477.500000      91.000000      42.000000\n",
       "max    129970.000000     100.000000    3300.000000"
      ]
     },
     "execution_count": 3,
     "metadata": {},
     "output_type": "execute_result"
    }
   ],
   "source": [
    "df.describe() # these are the only numerical columns so far that is why it only shows 3. "
   ]
  },
  {
   "cell_type": "code",
   "execution_count": 4,
   "metadata": {},
   "outputs": [
    {
     "name": "stdout",
     "output_type": "stream",
     "text": [
      "['Unnamed: 0', 'country', 'description', 'designation', 'points', 'price', 'province', 'region_1', 'region_2', 'taster_name', 'taster_twitter_handle', 'title', 'variety', 'winery']\n"
     ]
    }
   ],
   "source": [
    "labels = list(df.columns.values)\n",
    "print(labels)"
   ]
  },
  {
   "cell_type": "code",
   "execution_count": 5,
   "metadata": {},
   "outputs": [
    {
     "name": "stdout",
     "output_type": "stream",
     "text": [
      "117609\n"
     ]
    },
    {
     "data": {
      "text/plain": [
       "False"
      ]
     },
     "execution_count": 5,
     "metadata": {},
     "output_type": "execute_result"
    }
   ],
   "source": [
    "# --- Cleaning the data ---\n",
    "\n",
    "#1: Get rid of useless columns.  \n",
    "\n",
    "df_cleaned=df.drop(['Unnamed: 0','description','title'],axis=1)\n",
    "#print(df_cleaned.info())\n",
    "\n",
    "#2: Get rid of extreme outliers since it will worsen the predictions.\n",
    "\n",
    "cleaned = df_cleaned.price <= 100\n",
    "pricesBelow100 = df_cleaned.price[cleaned]\n",
    "\n",
    "print(len(pricesBelow100))\n",
    "\n",
    "#3: Replace NaN's with average price of the dataset.\n",
    "\n",
    "'NaN' in pricesBelow100 # we don't need to because limiting the price to 100 already did it for us. \n"
   ]
  },
  {
   "cell_type": "code",
   "execution_count": 6,
   "metadata": {},
   "outputs": [],
   "source": [
    "#pd.unique(df_cleaned.price)"
   ]
  },
  {
   "cell_type": "code",
   "execution_count": 7,
   "metadata": {},
   "outputs": [],
   "source": [
    "#df_cleaned.price.describe()"
   ]
  },
  {
   "cell_type": "code",
   "execution_count": 8,
   "metadata": {},
   "outputs": [],
   "source": [
    "class MultiColumnLabelEncoder:\n",
    "    def __init__(self,columns = None):\n",
    "        self.columns = columns # array of column names to encode\n",
    "\n",
    "    def fit(self,X,y=None):\n",
    "        return self # not relevant here\n",
    "\n",
    "    def transform(self,X):\n",
    "        '''\n",
    "        Transforms columns of X specified in self.columns using\n",
    "        LabelEncoder(). If no columns specified, transforms all\n",
    "        columns in X.\n",
    "        '''\n",
    "        output = X.copy()\n",
    "        if self.columns is not None:\n",
    "            for col in self.columns:\n",
    "                output[col] = LabelEncoder().fit_transform(output[col])\n",
    "        else:\n",
    "            for colname,col in output.iteritems():\n",
    "                output[colname] = LabelEncoder().fit_transform(col)\n",
    "        return output\n",
    "\n",
    "    def fit_transform(self,X,y=None):\n",
    "        return self.fit(X,y).transform(X)"
   ]
  },
  {
   "cell_type": "code",
   "execution_count": 39,
   "metadata": {},
   "outputs": [
    {
     "name": "stdout",
     "output_type": "stream",
     "text": [
      "<class 'str'>\n",
      "<class 'str'>\n",
      "<class 'str'>\n",
      "<class 'str'>\n",
      "<class 'str'>\n",
      "<class 'str'>\n",
      "<class 'str'>\n",
      "<class 'str'>\n",
      "<class 'str'>\n",
      "<class 'pandas.core.frame.DataFrame'>\n",
      "RangeIndex: 117609 entries, 0 to 117608\n",
      "Data columns (total 11 columns):\n",
      "country                  117555 non-null object\n",
      "designation              83756 non-null object\n",
      "points                   117609 non-null int64\n",
      "price                    109433 non-null float64\n",
      "province                 117555 non-null object\n",
      "region_1                 98342 non-null object\n",
      "region_2                 45607 non-null object\n",
      "taster_name              93747 non-null object\n",
      "taster_twitter_handle    89256 non-null object\n",
      "variety                  117608 non-null object\n",
      "winery                   117609 non-null int64\n",
      "dtypes: float64(1), int64(2), object(8)\n",
      "memory usage: 9.9+ MB\n",
      "None\n"
     ]
    },
    {
     "name": "stderr",
     "output_type": "stream",
     "text": [
      "/opt/anaconda3/lib/python3.7/site-packages/ipykernel_launcher.py:41: SettingWithCopyWarning: \n",
      "A value is trying to be set on a copy of a slice from a DataFrame.\n",
      "Try using .loc[row_indexer,col_indexer] = value instead\n",
      "\n",
      "See the caveats in the documentation: http://pandas.pydata.org/pandas-docs/stable/user_guide/indexing.html#returning-a-view-versus-a-copy\n"
     ]
    }
   ],
   "source": [
    "#4: Make categorical attributes numerical so that they can be used in a model. \n",
    "\n",
    "df2 = df_cleaned.iloc[:117609,:] # doing this in order to exlcude the extreme values. \n",
    "\n",
    "#in order to check again if this was successful:\n",
    "#'NaN' in df2['price'] <--- it worked because it returned false \n",
    "\n",
    "#'NaN' in df2 <--- false - awesome :) \n",
    "\n",
    "# includes all except: price, points and title. Title will need to be precprocessed differently. \n",
    "categorical_features = ['country','designation','province', 'region_1', 'region_2', 'variety', 'winery', 'taster_name', 'taster_twitter_handle']\n",
    "\n",
    "cat_features_light = ['country','designation','province', 'region_1', 'region_2', 'variety', 'winery', 'taster_name']\n",
    "\n",
    "\n",
    "#--------------------- got stuck below here -----------------------\n",
    "#df2['country'].astype(\"|S\")\n",
    "\n",
    "for i in categorical_features:\n",
    "    df2.astype(str)[i].map(lambda x:  type(x))\n",
    "    print(type(i))\n",
    "\n",
    "# Before we can encode we need to have either string type or int type...obviously we want str first.\n",
    "\n",
    "# Ok actually objects are stored as strings just doesn't say str in the .info() method...\n",
    "\n",
    " \n",
    "\n",
    "from sklearn.preprocessing import LabelEncoder\n",
    "\n",
    "le = LabelEncoder()\n",
    "\n",
    "#df2[categorical_features] = le.fit_transform(df[categorical_features]) <--ValueError: bad input shape (129971, 9)\n",
    "#df2['country']= le.fit_transform(df2['country']) <--- TypeError: argument must be a string or number\n",
    "#df2['designation']= le.fit_transform(df2['designation']) <--- TypeError: argument must be a string or number\n",
    "#df2['province']= le.fit_transform(df2['province']) <--- TypeError: argument must be a string or number\n",
    "#df2['region_1']= le.fit_transform(df2['region_1']) <--- TypeError: argument must be a string or number\n",
    "#df2['region_2']= le.fit_transform(df2['region_2']) <--- TypeError: argument must be a string or number\n",
    "#df2['taster_name']= le.fit_transform(df2['taster_name']) <--- TypeError: argument must be a string or number\n",
    "#df2['variety']= le.fit_transform(df2['variety']) <--- TypeError: argument must be a string or number\n",
    "df2['winery']= le.fit_transform(df2['winery'])\n",
    "print(df2.info())\n",
    "\n",
    "\n",
    "#encoder = LabelEncoder()\n",
    "\n",
    "# Apply the label encoder to each column\n",
    "#encoded = df2[categorical_features].apply(encoder.fit_transform)\n",
    "#encoded.head(10)\n",
    "\n",
    "#MultiColumnLabelEncoder(columns = ['country']).fit_transform(df2)"
   ]
  },
  {
   "cell_type": "code",
   "execution_count": 55,
   "metadata": {},
   "outputs": [
    {
     "name": "stdout",
     "output_type": "stream",
     "text": [
      "int64\n",
      "16094    203\n",
      "16048    189\n",
      "14653    187\n",
      "5266     183\n",
      "7645     182\n",
      "        ... \n",
      "10138      1\n",
      "3999       1\n",
      "14296      1\n",
      "10202      1\n",
      "4062       1\n",
      "Name: winery, Length: 16322, dtype: int64\n",
      "(117609,)\n"
     ]
    }
   ],
   "source": [
    "print(df2['winery'].dtype)\n",
    "print(df2['winery'].value_counts())\n",
    "print(df2['winery'].shape)\n"
   ]
  },
  {
   "cell_type": "code",
   "execution_count": 54,
   "metadata": {},
   "outputs": [
    {
     "data": {
      "image/png": "[encoded data removed]",
      "text/plain": [
       "<Figure size 432x288 with 2 Axes>"
      ]
     },
     "metadata": {
      "needs_background": "light"
     },
     "output_type": "display_data"
    }
   ],
   "source": [
    "correlation = df2.corr()\n",
    "sns.heatmap(correlation,cmap=\"YlGnBu\",annot=True)\n",
    "plt.show()"
   ]
  },
  {
   "cell_type": "code",
   "execution_count": 11,
   "metadata": {},
   "outputs": [
    {
     "data": {
      "image/png": "[encoded data removed]",
      "text/plain": [
       "<Figure size 360x360 with 1 Axes>"
      ]
     },
     "metadata": {
      "needs_background": "light"
     },
     "output_type": "display_data"
    }
   ],
   "source": [
    "sns.lmplot(x='price', y=\"points\", data=df2,line_kws={'color': 'red'})\n",
    "text=\"Relation between points and price\"   \n",
    "plt.title(text)\n",
    "plt.ylim(75, 105)\n",
    "\n",
    "plt.show()"
   ]
  },
  {
   "cell_type": "code",
   "execution_count": 12,
   "metadata": {},
   "outputs": [
    {
     "data": {
      "image/png": "[encoded data removed]",
      "text/plain": [
       "<Figure size 360x360 with 1 Axes>"
      ]
     },
     "metadata": {
      "needs_background": "light"
     },
     "output_type": "display_data"
    }
   ],
   "source": [
    "sns.lmplot(x='points', y=\"price\", data=df2,line_kws={'color': 'red'})\n",
    "text=\"Relation between price and points\"   \n",
    "plt.title(text)\n",
    "plt.xlim(75, 105)\n",
    "\n",
    "plt.show()"
   ]
  },
  {
   "cell_type": "code",
   "execution_count": 13,
   "metadata": {},
   "outputs": [
    {
     "data": {
      "text/plain": [
       "points\n",
       "80       354\n",
       "81       631\n",
       "82      1637\n",
       "83      2536\n",
       "84      5401\n",
       "85      8228\n",
       "86     10638\n",
       "87     14588\n",
       "88     14511\n",
       "89     10277\n",
       "90     12807\n",
       "91      9564\n",
       "92      7917\n",
       "93      5295\n",
       "94      3105\n",
       "95      1265\n",
       "96       419\n",
       "97       163\n",
       "98        58\n",
       "99        23\n",
       "100       16\n",
       "Name: price, dtype: int64"
      ]
     },
     "execution_count": 13,
     "metadata": {},
     "output_type": "execute_result"
    }
   ],
   "source": [
    "df2.groupby('points')['price'].count()"
   ]
  },
  {
   "cell_type": "code",
   "execution_count": 62,
   "metadata": {},
   "outputs": [
    {
     "name": "stdout",
     "output_type": "stream",
     "text": [
      "False\n",
      "False\n",
      "False\n",
      "True\n"
     ]
    }
   ],
   "source": [
    "from sklearn.ensemble import RandomForestClassifier\n",
    "\n",
    "#df2.reset_index()\n",
    "#https://stackoverflow.com/questions/31323499/sklearn-error-valueerror-input-contains-nan-infinity-or-a-value-too-large-for\n",
    "X = df2[['points','winery']][:10]\n",
    "print('NaN' in X)\n",
    "y = df2['price'][:10]\n",
    "\n",
    "print('NaN' in y)\n",
    "X_train,X_test,y_train,y_test = train_test_split(X,y,random_state=0)\n",
    "print(np.any(np.isnan(X)))\n",
    "print(np.any(np.isnan(y)))\n",
    "\n",
    "#rfc = RandomForestClassifier().fit(np.array(X_train).reshape(-1,1),np.array(y_train).reshape(-1,1))\n",
    "#rfc = RandomForestClassifier().fit(X_train,y_train)\n",
    "#print('training score: ',rfc.score(X_train,y_train), 'test score: ',rfc.score(X_test,y_test))\n",
    "\n",
    "# Running this i get the following error: ValueError: Input contains NaN, infinity or a value too large for dtype('float64')."
   ]
  },
  {
   "cell_type": "code",
   "execution_count": 63,
   "metadata": {},
   "outputs": [
    {
     "data": {
      "text/plain": [
       "False"
      ]
     },
     "execution_count": 63,
     "metadata": {},
     "output_type": "execute_result"
    }
   ],
   "source": [
    "'NaN' in df2['points']"
   ]
  },
  {
   "cell_type": "code",
   "execution_count": null,
   "metadata": {},
   "outputs": [],
   "source": []
  }
 ],
 "metadata": {
  "kernelspec": {
   "display_name": "Python 3",
   "language": "python",
   "name": "python3"
  },
  "language_info": {
   "codemirror_mode": {
    "name": "ipython",
    "version": 3
   },
   "file_extension": ".py",
   "mimetype": "text/x-python",
   "name": "python",
   "nbconvert_exporter": "python",
   "pygments_lexer": "ipython3",
   "version": "3.7.4"
  }
 },
 "nbformat": 4,
 "nbformat_minor": 2
}
